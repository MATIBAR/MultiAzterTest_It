{
 "cells": [
  {
   "cell_type": "markdown",
   "metadata": {},
   "source": [
    "How to work with a class:"
   ]
  },
  {
   "cell_type": "code",
   "execution_count": 8,
   "metadata": {},
   "outputs": [
    {
     "name": "stdout",
     "output_type": "stream",
     "text": [
      "1,2,3\n",
      "kaixo\n"
     ]
    }
   ],
   "source": [
    "class Indicators:\n",
    "    #variable de clase que se comparte con todas las instancias\n",
    "    num_words=0\n",
    "    #metodo de clase\n",
    "    @classmethod\n",
    "    def class_method(cls):\n",
    "        print(\"kaixo\")\n",
    "    #metodo eraikitzailea:klasearen informazioa definitzen da objetu berri baten inst_aldagaiak hasieratzeko \n",
    "    def __init__(self,par1,par2):\n",
    "        self.variable_instancia1=par1\n",
    "        self.variable_instancia2=par2\n",
    "        self.variable_instancia3=3\n",
    "    def  eskuratu(self):\n",
    "        return (str(self.variable_instancia1)+\",\"+str(self.variable_instancia2)+\",\"+str(self.variable_instancia3))\n",
    "i=Indicators(1,2)\n",
    "print(i.eskuratu())\n",
    "#Llamada sin instación al ser un metodo de clase\n",
    "Indicators.class_method()\n",
    "\n",
    "    "
   ]
  },
  {
   "cell_type": "code",
   "execution_count": null,
   "metadata": {},
   "outputs": [],
   "source": []
  }
 ],
 "metadata": {
  "kernelspec": {
   "display_name": "Python 3",
   "language": "python",
   "name": "python3"
  },
  "language_info": {
   "codemirror_mode": {
    "name": "ipython",
    "version": 3
   },
   "file_extension": ".py",
   "mimetype": "text/x-python",
   "name": "python",
   "nbconvert_exporter": "python",
   "pygments_lexer": "ipython3",
   "version": "3.6.8"
  }
 },
 "nbformat": 4,
 "nbformat_minor": 2
}
